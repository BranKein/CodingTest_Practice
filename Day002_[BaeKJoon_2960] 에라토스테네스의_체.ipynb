{
 "cells": [
  {
   "cell_type": "markdown",
   "metadata": {
    "collapsed": true,
    "pycharm": {
     "name": "#%% md\n"
    }
   },
   "source": [
    "### [백준 2960번 에라토스테네스의 체](https://www.acmicpc.net/problem/2960)\n",
    "\n",
    "##### 시간제한: 1초, 메모리제한 128MB\n",
    "\n",
    "### 문제\n",
    "\n",
    "에라토스테네스의 체는 N보다 작거나 같은 모든 소수를 찾는 유명한 알고리즘이다.\n",
    "\n",
    "이 알고리즘은 다음과 같다.\n",
    "\n",
    "1. 2부터 N까지 모든 정수를 적는다.\n",
    "2. 아직 지우지 않은 수 중 가장 작은 수를 찾는다. 이것을 P라고 하고, 이 수는 소수이다.\n",
    "3. P를 지우고, 아직 지우지 않은 P의 배수를 크기 순서대로 지운다.\n",
    "4. 아직 모든 수를 지우지 않았다면, 다시 2번 단계로 간다.\n",
    "5. N, K가 주어졌을 때, K번째 지우는 수를 구하는 프로그램을 작성하시오.\n",
    "\n",
    "### 입력\n",
    "\n",
    "첫째 줄에 N과 K가 주어진다. (1 ≤ K < N, max(2, K) < N ≤ 1000)\n",
    "\n",
    "### 출력\n",
    "\n",
    "첫째 줄에 K번째 지워진 수를 출력한다."
   ]
  },
  {
   "cell_type": "markdown",
   "source": [
    "### 무작정 코딩\n",
    "\n",
    "골드바흐의 추측 문제를 풀 때 사용했던 코드를 가져와보자"
   ],
   "metadata": {
    "collapsed": false,
    "pycharm": {
     "name": "#%% md\n"
    }
   }
  },
  {
   "cell_type": "code",
   "execution_count": 1,
   "outputs": [
    {
     "name": "stdout",
     "output_type": "stream",
     "text": [
      "9\n"
     ]
    }
   ],
   "source": [
    "input_line = input().split(' ')\n",
    "N = int(input_line[0])\n",
    "K = int(input_line[1])\n",
    "\n",
    "prime_list_bool = [True] * (N + 1)\n",
    "prime_list = list()\n",
    "for i in range(2, N // 2 + 1):\n",
    "    if prime_list_bool[i]:\n",
    "        for j in range(i, N, i):\n",
    "            K -= 1\n",
    "            prime_list_bool[j] = False\n",
    "            if K == 0:\n",
    "                print(j)\n",
    "                break\n",
    "    if K == 0:\n",
    "        break"
   ],
   "metadata": {
    "collapsed": false,
    "pycharm": {
     "name": "#%%\n"
    }
   }
  },
  {
   "cell_type": "markdown",
   "source": [
    "틀림.\n"
   ],
   "metadata": {
    "collapsed": false,
    "pycharm": {
     "name": "#%% md\n"
    }
   }
  }
 ],
 "metadata": {
  "kernelspec": {
   "display_name": "Python 3",
   "language": "python",
   "name": "python3"
  },
  "language_info": {
   "codemirror_mode": {
    "name": "ipython",
    "version": 2
   },
   "file_extension": ".py",
   "mimetype": "text/x-python",
   "name": "python",
   "nbconvert_exporter": "python",
   "pygments_lexer": "ipython2",
   "version": "2.7.6"
  }
 },
 "nbformat": 4,
 "nbformat_minor": 0
}