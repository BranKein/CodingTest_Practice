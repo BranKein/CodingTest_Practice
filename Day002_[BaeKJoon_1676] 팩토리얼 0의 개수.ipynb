{
 "cells": [
  {
   "cell_type": "markdown",
   "metadata": {
    "collapsed": true,
    "pycharm": {
     "name": "#%% md\n"
    }
   },
   "source": [
    "### [백준 1676번 팩토리얼 0의 개수](https://www.acmicpc.net/problem/1676)\n",
    "\n",
    "##### 시간제한: 2초, 메모리제한 128MB\n",
    "\n",
    "### 문제\n",
    "\n",
    "N!에서 뒤에서부터 처음 0이 아닌 숫자가 나올 때까지 0의 개수를 구하는 프로그램을 작성하시오.\n",
    "\n",
    "### 입력\n",
    "\n",
    "첫째 줄에 N이 주어진다. (0 ≤ N ≤ 500)\n",
    "\n",
    "### 출력\n",
    "\n",
    "첫째 줄에 구한 0의 개수를 출력한다."
   ]
  },
  {
   "cell_type": "markdown",
   "source": [
    "### 접근\n",
    "\n",
    "10872번 문제의 코드를 가져오고 구한 팩토리얼 값을 10으로 나눈 나머지가 0인지 확인하자\n",
    "\n",
    "### 무작정 코딩"
   ],
   "metadata": {
    "collapsed": false,
    "pycharm": {
     "name": "#%% md\n"
    }
   }
  },
  {
   "cell_type": "code",
   "execution_count": 1,
   "outputs": [
    {
     "name": "stdout",
     "output_type": "stream",
     "text": [
      "2\n"
     ]
    }
   ],
   "source": [
    "num = int(input())\n",
    "\n",
    "N = 1\n",
    "for i in range(1, num+1):\n",
    "    N *= i\n",
    "count = 0\n",
    "while True:\n",
    "    if N % 10 == 0:\n",
    "        count += 1\n",
    "        N /= 10\n",
    "    else:\n",
    "        break\n",
    "print(count)"
   ],
   "metadata": {
    "collapsed": false,
    "pycharm": {
     "name": "#%%\n"
    }
   }
  },
  {
   "cell_type": "markdown",
   "source": [
    "결과는 오버플로우 에러.\n",
    "\n",
    "파이썬에서도 오버플로우 에러가 나는지는 처음 알았다..\n",
    "\n",
    "아무래도 이번엔 N의 범위가 500 이하로까지 늘어나서 그런 듯 하다.\n",
    "\n",
    "그렇다면 방법은 팩토리얼을 완전히 계산하지 않는 것이다."
   ],
   "metadata": {
    "collapsed": false,
    "pycharm": {
     "name": "#%% md\n"
    }
   }
  },
  {
   "cell_type": "code",
   "execution_count": 6,
   "outputs": [
    {
     "name": "stdout",
     "output_type": "stream",
     "text": [
      "0\n"
     ]
    }
   ],
   "source": [
    "num = int(input())\n",
    "\n",
    "two = 0\n",
    "five = 0\n",
    "for i in range(1, num+1):\n",
    "    tmp = i\n",
    "    while True:\n",
    "        if tmp % 2 == 0:\n",
    "            two += 1\n",
    "            tmp /= 2\n",
    "        if tmp % 5 == 0:\n",
    "            five += 1\n",
    "            tmp /= 5\n",
    "        if tmp % 2 != 0 and tmp % 5 != 0:\n",
    "            break\n",
    "print(min(two, five))"
   ],
   "metadata": {
    "collapsed": false,
    "pycharm": {
     "name": "#%%\n"
    }
   }
  },
  {
   "cell_type": "markdown",
   "source": [
    "결과는 성공"
   ],
   "metadata": {
    "collapsed": false,
    "pycharm": {
     "name": "#%% md\n"
    }
   }
  }
 ],
 "metadata": {
  "kernelspec": {
   "display_name": "Python 3",
   "language": "python",
   "name": "python3"
  },
  "language_info": {
   "codemirror_mode": {
    "name": "ipython",
    "version": 2
   },
   "file_extension": ".py",
   "mimetype": "text/x-python",
   "name": "python",
   "nbconvert_exporter": "python",
   "pygments_lexer": "ipython2",
   "version": "2.7.6"
  }
 },
 "nbformat": 4,
 "nbformat_minor": 0
}