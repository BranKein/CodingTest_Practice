{
 "cells": [
  {
   "cell_type": "markdown",
   "source": [
    "### [백준 6588번 골드바흐의 추측](https://www.acmicpc.net/problem/6588)\n",
    "\n",
    "##### 시간제한: 1초, 메모리제한 256MB\n",
    "\n",
    "### 문제\n",
    "\n",
    "1742년, 독일의 아마추어 수학가 크리스티안 골드바흐는 레온하르트 오일러에게 다음과 같은 추측을 제안하는 편지를 보냈다.\n",
    "\n",
    "_\"4보다 큰 모든 짝수는 두 홀수 소수의 합으로 나타낼 수 있다.\"_\n",
    "\n",
    "예를 들어 8은 3 + 5로 나타낼 수 있고, 3과 5는 모두 홀수인 소수이다. 또, 20 = 3 + 17 = 7 + 13, 42 = 5 + 37 = 11 + 31 = 13 + 29 = 19 + 23 이다.\n",
    "\n",
    "이 추측은 아직도 해결되지 않은 문제이다.\n",
    "\n",
    "백만 이하의 모든 짝수에 대해서, 이 추측을 검증하는 프로그램을 작성하시오.\n",
    "\n",
    "### 입력\n",
    "\n",
    "입력은 하나 또는 그 이상의 테스트 케이스로 이루어져 있다. 테스트 케이스의 개수는 100,000개를 넘지 않는다.\n",
    "\n",
    "각 테스트 케이스는 짝수 정수 n 하나로 이루어져 있다. (6 ≤ n ≤ 1000000)\n",
    "\n",
    "입력의 마지막 줄에는 0이 하나 주어진다.\n",
    "\n",
    "### 출력\n",
    "\n",
    "각 테스트 케이스에 대해서, n = a + b 형태로 출력한다. 이때, a와 b는 홀수 소수이다. 숫자와 연산자는 공백 하나로 구분되어져 있다. 만약, n을 만들 수 있는 방법이 여러 가지라면, b-a가 가장 큰 것을 출력한다. 또, 두 홀수 소수의 합으로 n을 나타낼 수 없는 경우에는 \"Goldbach's conjecture is wrong.\"을 출력한다."
   ],
   "metadata": {
    "collapsed": false
   }
  },
  {
   "cell_type": "markdown",
   "source": [
    "### 첫번째 시도\n",
    "\n",
    "### 접근\n",
    "\n",
    "a와 b는 n보다 반드시 작게 됨을 생각하더라도 n은 1000000보다 작거나 같다.\n",
    "\n",
    "따라서 소수인 a와 b는 1000000보다는 작은 소수들일 것이다.\n",
    "\n",
    "1000000보다 작은 소수의 개수가 그리 크지는 않겠지만 조금이라도 실행시간을 줄이고자 필요할때만 소수를 더 구하는 방식을 택할 것이다.\n",
    "\n",
    "소수를 구할 때에는 에라토스테네스의 체를 사용하여 보다 효율적으로 판별을 할 예정이다."
   ],
   "metadata": {
    "collapsed": false,
    "pycharm": {
     "name": "#%% md\n"
    }
   }
  },
  {
   "cell_type": "code",
   "execution_count": 3,
   "outputs": [
    {
     "name": "stdout",
     "output_type": "stream",
     "text": [
      "8 = 3 + 5\n",
      "20 = 3 + 17\n",
      "42 = 5 + 37\n"
     ]
    }
   ],
   "source": [
    "import math\n",
    "\n",
    "def if_prime(num: int):\n",
    "    for i in range(2, int(math.sqrt(num))):\n",
    "        if num % i == 0:\n",
    "            return False\n",
    "    return True\n",
    "\n",
    "def get_odd_prime(num: int):\n",
    "    a = 0\n",
    "    b = 0\n",
    "    if num > prime_list[-1]:\n",
    "        for i in range(prime_list[-1], num):\n",
    "            if if_prime(i):\n",
    "                prime_list.append(i)\n",
    "\n",
    "    for i in prime_list:\n",
    "        for j in prime_list:\n",
    "            if i + j == num and abs(j - i) > abs(a - b):\n",
    "                a = i\n",
    "                b = j\n",
    "\n",
    "    if a > b:\n",
    "        return b, a\n",
    "    else:\n",
    "        return a, b\n",
    "\n",
    "prime_list = list()\n",
    "prime_list.append(3)\n",
    "\n",
    "while True:\n",
    "    n = int(input())\n",
    "    if n == 0:\n",
    "        break\n",
    "    else:\n",
    "        a, b = get_odd_prime(n)\n",
    "        if a == 0 and b == 0:\n",
    "            print(\"Goldbach's conjecture is wrong.\")\n",
    "        else:\n",
    "            print(\"{} = {} + {}\".format(n, a, b))"
   ],
   "metadata": {
    "collapsed": false,
    "pycharm": {
     "name": "#%%\n"
    }
   }
  },
  {
   "cell_type": "markdown",
   "source": [
    "```\n",
    "input\n",
    "8\n",
    "20\n",
    "42\n",
    "0\n",
    "```\n",
    "결과는 시간초과.\n",
    "\n",
    "소수 판별을 하는 알고리즘을 좀 더 개선해보려고 한다.\n",
    "\n",
    "if_prime 함수에 들어가는 num은 홀수로 고정시키고, 2부터 sqrt(num) 까지가 아니라 prime_list의 원소들로 판별하자."
   ],
   "metadata": {
    "collapsed": false
   }
  },
  {
   "cell_type": "code",
   "execution_count": 6,
   "outputs": [
    {
     "name": "stdout",
     "output_type": "stream",
     "text": [
      "8 = 3 + 5\n",
      "20 = 3 + 17\n",
      "42 = 5 + 37\n"
     ]
    }
   ],
   "source": [
    "def if_prime(num: int):\n",
    "    for i in prime_list:\n",
    "        if num % i == 0:\n",
    "            return False\n",
    "    return True\n",
    "\n",
    "\n",
    "def get_odd_prime(num: int):\n",
    "    a = 0\n",
    "    b = 0\n",
    "    if num > prime_list[-1]:\n",
    "        for i in range(prime_list[-1], num, 2):\n",
    "            if if_prime(i):\n",
    "                prime_list.append(i)\n",
    "\n",
    "    for i in prime_list:\n",
    "        for j in prime_list:\n",
    "            if i + j == num and abs(j - i) > abs(a - b):\n",
    "                a = i\n",
    "                b = j\n",
    "\n",
    "    if a > b:\n",
    "        return b, a\n",
    "    else:\n",
    "        return a, b\n",
    "\n",
    "prime_list = list()\n",
    "prime_list.append(3)\n",
    "\n",
    "while True:\n",
    "    n = int(input())\n",
    "    if n == 0:\n",
    "        break\n",
    "    else:\n",
    "        a, b = get_odd_prime(n)\n",
    "        if a == 0 and b == 0:\n",
    "            print(\"Goldbach's conjecture is wrong.\")\n",
    "        else:\n",
    "            print(\"{} = {} + {}\".format(n, a, b))"
   ],
   "metadata": {
    "collapsed": false,
    "pycharm": {
     "name": "#%%\n"
    }
   }
  },
  {
   "cell_type": "markdown",
   "source": [
    "결과는 여전히 시간초과\n",
    "\n",
    "아무래도 소수를 구하는 부분에서 시간초과가 발생하는것은 아닌가보다.\n",
    "\n",
    "그러면 a와 b의 조합을 구하는 부분을 개선해야 한다.\n",
    "\n",
    "현재 보이는 문제는 (a, b) = (3, 5)의 경우와 (a, b) = (5, 3)의 경우가 다르게 판별되고 있다는 점."
   ],
   "metadata": {
    "collapsed": false,
    "pycharm": {
     "name": "#%% md\n"
    }
   }
  },
  {
   "cell_type": "code",
   "execution_count": 8,
   "outputs": [
    {
     "name": "stdout",
     "output_type": "stream",
     "text": [
      "8 = 3 + 5\n",
      "20 = 3 + 17\n",
      "42 = 5 + 37\n"
     ]
    }
   ],
   "source": [
    "def if_prime(num: int):\n",
    "    for i in prime_list:\n",
    "        if num % i == 0:\n",
    "            return False\n",
    "    return True\n",
    "\n",
    "\n",
    "def get_odd_prime(num: int):\n",
    "    a = 0\n",
    "    b = 0\n",
    "    if num > prime_list[-1]:\n",
    "        for i in range(prime_list[-1], num, 2):\n",
    "            if if_prime(i):\n",
    "                prime_list.append(i)\n",
    "\n",
    "    for i in range(len(prime_list)):\n",
    "        for j in range(i, len(prime_list)):\n",
    "            if prime_list[i] + prime_list[j] == num and prime_list[j] - prime_list[i] > b - a:\n",
    "                a = prime_list[i]\n",
    "                b = prime_list[j]\n",
    "\n",
    "    return a, b\n",
    "\n",
    "prime_list = list()\n",
    "prime_list.append(3)\n",
    "\n",
    "while True:\n",
    "    n = int(input())\n",
    "    if n == 0:\n",
    "        break\n",
    "    else:\n",
    "        a, b = get_odd_prime(n)\n",
    "        if a == 0 and b == 0:\n",
    "            print(\"Goldbach's conjecture is wrong.\")\n",
    "        else:\n",
    "            print(\"{} = {} + {}\".format(n, a, b))"
   ],
   "metadata": {
    "collapsed": false,
    "pycharm": {
     "name": "#%%\n"
    }
   }
  },
  {
   "cell_type": "markdown",
   "source": [
    "또 시간초과.\n",
    "\n",
    "아무래도 for 문을 돌릴 때 prime_list를 순차적으로 돌아서 그런 듯 하다.\n",
    "\n",
    "b-a가 가장 커져야 하는 조건을 for 문에 적용시키고 되도록이면 for문이 돌아가는 도중에(prime_list를 다 돌아보기 전에) return을 시켜야 한다."
   ],
   "metadata": {
    "collapsed": false,
    "pycharm": {
     "name": "#%% md\n"
    }
   }
  },
  {
   "cell_type": "code",
   "execution_count": 16,
   "outputs": [
    {
     "name": "stdout",
     "output_type": "stream",
     "text": [
      "8 = 3 + 5\n",
      "20 = 3 + 17\n",
      "42 = 5 + 37\n"
     ]
    }
   ],
   "source": [
    "def if_prime(num: int):\n",
    "    for i in range(2, int(math.sqrt(num))):\n",
    "        if num % i == 0:\n",
    "            return False\n",
    "    return True\n",
    "\n",
    "\n",
    "def get_odd_prime(num: int):\n",
    "    if num > prime_list[-1]:\n",
    "        for i in range(prime_list[-1] + 2, num, 2):\n",
    "            if if_prime(i):\n",
    "                prime_list.append(i)\n",
    "\n",
    "    i = 0\n",
    "    j = len(prime_list) - 1\n",
    "\n",
    "    while i <= j:\n",
    "        if prime_list[i] + prime_list[j] == num:\n",
    "            return prime_list[i], prime_list[j]\n",
    "\n",
    "        if i == len(prime_list) - 1 or j == 0:\n",
    "            return 0, 0\n",
    "\n",
    "        if prime_list[i] + prime_list[j] > num:\n",
    "            j -= 1\n",
    "        else:\n",
    "            i += 1\n",
    "    return 0, 0\n",
    "\n",
    "prime_list = list()\n",
    "prime_list.append(3)\n",
    "prime_list.append(5)\n",
    "\n",
    "while True:\n",
    "    n = int(input())\n",
    "    if n == 0:\n",
    "        break\n",
    "    else:\n",
    "        a, b = get_odd_prime(n)\n",
    "        if a == 0 and b == 0:\n",
    "            print(\"Goldbach's conjecture is wrong.\")\n",
    "        else:\n",
    "            print(\"{} = {} + {}\".format(n, a, b))"
   ],
   "metadata": {
    "collapsed": false,
    "pycharm": {
     "name": "#%%\n"
    }
   }
  },
  {
   "cell_type": "markdown",
   "source": [
    "여전히 시간초과.\n",
    "\n",
    "방법이 도저히 떠오르지 않기도 하고 뭔가 근본적인 접근 방법이 틀린듯 하여 SOMJANG님의 풀이를 들춰보았다.\n",
    "\n",
    "N 이하의 소수를 모두 찾고 가장 작은 소수부터 소수의 개수만큼 반복문을 돌면서 N - 소수를 했을 때 그 값도 소수인 경우 print를 하자.\n",
    "\n",
    "a, b의 조합을 먼저 찾고 N을 만족시키려고 했던 나의 접근과는 방향이 반대로, 조합 자체를 찾지 않아도 되는 접근 방식이었다."
   ],
   "metadata": {
    "collapsed": false,
    "pycharm": {
     "name": "#%% md\n"
    }
   }
  },
  {
   "cell_type": "code",
   "execution_count": 24,
   "outputs": [
    {
     "name": "stdout",
     "output_type": "stream",
     "text": [
      "8 = 3 + 5\n",
      "20 = 3 + 17\n",
      "42 = 5 + 37\n"
     ]
    }
   ],
   "source": [
    "def if_prime(num: int):\n",
    "    for i in range(2, int(math.sqrt(num))):\n",
    "        if num % i == 0:\n",
    "            return False\n",
    "    return True\n",
    "\n",
    "\n",
    "def get_odd_prime(num: int):\n",
    "    if num > prime_list[-1]:\n",
    "        for i in range(prime_list[-1] + 2, num, 2):\n",
    "            prime_list_bool.append(False)\n",
    "            if if_prime(i):\n",
    "                prime_list.append(i)\n",
    "                prime_list_bool.append(True)\n",
    "            else:\n",
    "                prime_list_bool.append(False)\n",
    "\n",
    "    for prime in prime_list:\n",
    "        if prime_list_bool[num - prime]:\n",
    "            return prime, num - prime\n",
    "        if num < prime or prime > num - prime:\n",
    "            return 0, 0\n",
    "\n",
    "prime_list = list()\n",
    "prime_list_bool = list()\n",
    "prime_list.append(3)\n",
    "prime_list_bool.append(False)\n",
    "prime_list_bool.append(False)\n",
    "prime_list_bool.append(False)\n",
    "prime_list_bool.append(True)\n",
    "\n",
    "while True:\n",
    "    n = int(input())\n",
    "    if n == 0:\n",
    "        break\n",
    "    else:\n",
    "        a, b = get_odd_prime(n)\n",
    "        if a == 0 and b == 0:\n",
    "            print(\"Goldbach's conjecture is wrong.\")\n",
    "        else:\n",
    "            print(\"{} = {} + {}\".format(n, a, b))"
   ],
   "metadata": {
    "collapsed": false,
    "pycharm": {
     "name": "#%%\n"
    }
   }
  },
  {
   "cell_type": "markdown",
   "source": [
    "결과는 마찬가지로 시간초과.\n",
    "\n",
    "이번엔 소수 판별 쪽이 문제가 된 듯 하다. is_prime을 할때마다 2부터 sqrt(num)까지 계속 돌아야 한다는 것.\n",
    "\n",
    "그러면 한번만 돌 수 있도록 1000000 이하의 소수들을 먼저 다 찾아놓자."
   ],
   "metadata": {
    "collapsed": false,
    "pycharm": {
     "name": "#%% md\n"
    }
   }
  },
  {
   "cell_type": "code",
   "execution_count": 39,
   "outputs": [
    {
     "name": "stdout",
     "output_type": "stream",
     "text": [
      "8 = 3 + 5\n",
      "20 = 3 + 17\n",
      "42 = 5 + 37\n"
     ]
    }
   ],
   "source": [
    "num = 1000000\n",
    "prime_list_bool = [True] * (num + 1)\n",
    "prime_list = list()\n",
    "for i in range(2, num // 2 + 1):\n",
    "    if prime_list_bool[i]:\n",
    "        for j in range(i+i, num, i):\n",
    "            prime_list_bool[j] = False\n",
    "\n",
    "for i in range(2, num):\n",
    "    if prime_list_bool[i]:\n",
    "        prime_list.append(i)\n",
    "\n",
    "while True:\n",
    "    n = int(input())\n",
    "    if n == 0:\n",
    "        break\n",
    "    else:\n",
    "        found = False\n",
    "        for i in range(n // 2 + 1):\n",
    "            if prime_list_bool[n - prime_list[i]]:\n",
    "                print(\"{} = {} + {}\".format(n, prime_list[i], n - prime_list[i]))\n",
    "                found = True\n",
    "                break\n",
    "        if not found:\n",
    "            print(\"Goldbach's conjecture is wrong.\")"
   ],
   "metadata": {
    "collapsed": false,
    "pycharm": {
     "name": "#%%\n"
    }
   }
  },
  {
   "cell_type": "markdown",
   "source": [
    "또또 시간초과..\n",
    "\n",
    "SOMJANG님의 코드를 거의 베끼다시피 했는데도 시간초과가 뜬다.\n",
    "\n",
    "뭔가 이상해서 문제 조건을 다시 봤는데, 이게 웬걸, SOMJANG님이 풀 당시랑 문제 조건이 달라져 있었으며 SOMJANG님은 4544ms가 나온 반면 현재 문제 조건은 최대 1초이다. 더 줄여야 한다.\n",
    "\n",
    "아무래도 1000000 이하의 소수를 모두 구하는 것이 문제가 되는 듯 하다. 입력되는 값의 최대값까지만 소수 리스트를 구해보자."
   ],
   "metadata": {
    "collapsed": false,
    "pycharm": {
     "name": "#%% md\n"
    }
   }
  },
  {
   "cell_type": "code",
   "execution_count": 40,
   "outputs": [
    {
     "name": "stdout",
     "output_type": "stream",
     "text": [
      "8 = 3 + 5\n",
      "20 = 3 + 17\n",
      "42 = 5 + 37\n"
     ]
    }
   ],
   "source": [
    "input_list = list()\n",
    "num = 0\n",
    "while True:\n",
    "    n = int(input())\n",
    "    if n == 0:\n",
    "        break\n",
    "    else:\n",
    "        input_list.append(n)\n",
    "        if num < n:\n",
    "            num = n\n",
    "\n",
    "prime_list_bool = [True] * (num + 1)\n",
    "prime_list = list()\n",
    "for i in range(2, num // 2 + 1):\n",
    "    if prime_list_bool[i]:\n",
    "        for j in range(i+i, num, i):\n",
    "            prime_list_bool[j] = False\n",
    "\n",
    "for i in range(2, num):\n",
    "    if prime_list_bool[i]:\n",
    "        prime_list.append(i)\n",
    "\n",
    "for j in input_list:\n",
    "    found = False\n",
    "    for i in range(j // 2 + 1):\n",
    "        if prime_list_bool[j - prime_list[i]]:\n",
    "            print(\"{} = {} + {}\".format(j, prime_list[i], j - prime_list[i]))\n",
    "            found = True\n",
    "            break\n",
    "    if not found:\n",
    "        print(\"Goldbach's conjecture is wrong.\")"
   ],
   "metadata": {
    "collapsed": false,
    "pycharm": {
     "name": "#%%\n"
    }
   }
  },
  {
   "cell_type": "markdown",
   "source": [
    "드디어 결과는 성공!!\n",
    "\n",
    "하지만 뭔가 이상하다. 시간이 3112ms가 뜬다. SOMJANG님이 풀때랑 조건이 달라지지는 않은 듯 해서 문제점을 다시 찾아보았다.\n",
    "\n",
    "아무래도\n",
    "\n",
    "```\n",
    "while True:\n",
    "    n = int(input())\n",
    "    if n == 0:\n",
    "        break\n",
    "    else:\n",
    "        found = False\n",
    "        for i in range(n // 2 + 1):\n",
    "            if prime_list_bool[n - prime_list[i]]:\n",
    "                print(\"{} = {} + {}\".format(n, prime_list[i], n - prime_list[i]))\n",
    "                found = True\n",
    "                break\n",
    "        if not found:\n",
    "            print(\"Goldbach's conjecture is wrong.\")\n",
    "```\n",
    "여기에서 for i in range(n // 2 + 1): 이 부분이 문제를 일으킨 것 같다.\n",
    "\n",
    "만약 골드바흐의 추측이 틀린 경우가 있다라고 한다면, 백만 // 2 + 1까지 for 문이 반드시 돌기 때문에 시간 낭비가 생긴 것이다.\n",
    "\n",
    "n // 2 + 1까지만 돌려도 되는데.\n",
    "\n",
    "12번의 시간초과 끝에 드디어 성공이 떴다. 사실 Day001의 경우 내가 예전에 풀어놨던 쉬운 문제라서 이렇게 고전은 안했었는데 오늘 이렇게 문제를 제대로 접해보고 풀려고 해보니 그리 쉽지는 않은 듯 하다. 하지만 이렇게 어려우니까 연습을 하는거지.. 라고 생각하고 최대한 열심히 많이 풀어볼 것이다. 나중엔 이렇게 힘들어하지도 않겠지."
   ],
   "metadata": {
    "collapsed": false,
    "pycharm": {
     "name": "#%% md\n"
    }
   }
  }
 ],
 "metadata": {
  "kernelspec": {
   "display_name": "Python 3",
   "language": "python",
   "name": "python3"
  },
  "language_info": {
   "codemirror_mode": {
    "name": "ipython",
    "version": 2
   },
   "file_extension": ".py",
   "mimetype": "text/x-python",
   "name": "python",
   "nbconvert_exporter": "python",
   "pygments_lexer": "ipython2",
   "version": "2.7.6"
  }
 },
 "nbformat": 4,
 "nbformat_minor": 0
}