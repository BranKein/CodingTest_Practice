{
 "cells": [
  {
   "cell_type": "markdown",
   "metadata": {
    "collapsed": true,
    "pycharm": {
     "name": "#%% md\n"
    }
   },
   "source": [
    "### [백준 11653번 소인수분해](https://www.acmicpc.net/problem/11653)\n",
    "\n",
    "##### 시간제한: 2초, 메모리제한 256MB\n",
    "\n",
    "### 문제\n",
    "\n",
    "정수 N이 주어졌을 때, 소인수분해하는 프로그램을 작성하시오.\n",
    "\n",
    "### 입력\n",
    "\n",
    "첫째 줄에 정수 N (1 ≤ N ≤ 10,000,000)이 주어진다.\n",
    "\n",
    "### 출력\n",
    "\n",
    "N의 소인수분해 결과를 한 줄에 하나씩 오름차순으로 출력한다. N이 1인 경우 아무것도 출력하지 않는다.\n",
    "\n",
    "### 접근\n",
    "\n",
    "포문을 2부터 단순히 돌렸을 때 2, 3과 같은 소수는 분해할 수는 있는데 4나 6과같은 아이들은 어떻게 할까 잠깐 고민했지만 상관이 없는 것을 깨달았다.\n",
    "\n",
    "시간초과가 날 것 같긴 하지만 일단은 그냥 단순히 돌려보자"
   ]
  },
  {
   "cell_type": "code",
   "source": [
    "N = int(input())\n",
    "N_ori = N\n",
    "tmp = 2\n",
    "while N != 1:\n",
    "    if N % tmp == 0:\n",
    "        print(tmp)\n",
    "        N /= tmp\n",
    "    else:\n",
    "        tmp += 1"
   ],
   "metadata": {
    "collapsed": false,
    "pycharm": {
     "name": "#%%\n"
    }
   },
   "execution_count": 5,
   "outputs": [
    {
     "name": "stdout",
     "output_type": "stream",
     "text": [
      "7\n",
      "1428571\n"
     ]
    }
   ]
  },
  {
   "cell_type": "markdown",
   "source": [
    "예상외로 결과는 성공."
   ],
   "metadata": {
    "collapsed": false,
    "pycharm": {
     "name": "#%% md\n"
    }
   }
  }
 ],
 "metadata": {
  "kernelspec": {
   "display_name": "Python 3",
   "language": "python",
   "name": "python3"
  },
  "language_info": {
   "codemirror_mode": {
    "name": "ipython",
    "version": 2
   },
   "file_extension": ".py",
   "mimetype": "text/x-python",
   "name": "python",
   "nbconvert_exporter": "python",
   "pygments_lexer": "ipython2",
   "version": "2.7.6"
  }
 },
 "nbformat": 4,
 "nbformat_minor": 0
}