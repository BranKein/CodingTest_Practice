{
 "cells": [
  {
   "cell_type": "markdown",
   "id": "435c35b4",
   "metadata": {},
   "source": [
    "### [백준 2751번 수 정렬하기](https://www.acmicpc.net/problem/2751)\n",
    "\n",
    "##### 시간제한: 2초, 메모리제한 256MB\n",
    "\n",
    "### 문제\n",
    "\n",
    "N개의 수가 주어졌을 때, 이를 오름차순으로 정렬하는 프로그램을 작성하시오.\n",
    "\n",
    "### 입력\n",
    "\n",
    "첫째 줄에 수의 개수 N(1 ≤ N ≤ 1,000,000)이 주어진다. 둘째 줄부터 N개의 줄에는 숫자가 주어진다. 이 수는 절댓값이 1,000,000보다 작거나 같은 정수이다. 수는 중복되지 않는다.\n",
    "\n",
    "### 출력\n",
    "\n",
    "첫째 줄부터 N개의 줄에 오름차순으로 정렬한 결과를 한 줄에 하나씩 출력한다.\n",
    "\n",
    "### 접근\n",
    "\n",
    "방금 푼 문제랑 시리즈인 듯 하다. 문제는 같지만 조건이 약간 달라졌다.\n",
    "\n",
    "N의 범위가 확연히 늘어났다.\n",
    "\n",
    "일단은 이미 있는 sort 함수를 사용해보자. 하지만 정답비율이 30퍼센트정도 되는것으로 보아 안될 것 같다는 생각이 든다."
   ]
  },
  {
   "cell_type": "code",
   "execution_count": null,
   "id": "0138ef32",
   "metadata": {},
   "outputs": [],
   "source": [
    "N = int(input())\n",
    "num_list = list()\n",
    "for i in range(N):\n",
    "    num_list.append(int(input()))\n",
    "num_list.sort()\n",
    "for i in num_list:\n",
    "    print(i)"
   ]
  },
  {
   "cell_type": "markdown",
   "id": "93662334",
   "metadata": {},
   "source": [
    "역시나 시간초과.\n",
    "\n",
    "NlogN의 시간복잡도로는 안되나보다.\n",
    "\n",
    "결국 시간복잡도가 N이 나오는 카운팅 알고리즘을 공부해서 구현해보는 수밖에.\n",
    "\n",
    "카운팅 소팅 알고리즘을 공부하고 왔다.(코드는 보지 않음) 단점이 하나 보인다. 메모리 차지가 심하다.\n",
    "\n",
    "그리고 단점은 아니지만 음수에 대해서는 약간 처리가 필요해 보인다.\n",
    "\n",
    "하지만 카운팅 알고리즘도 배워봤겠다 한번 구현해보자. 메모리 제한은 256MB로 어느정도 있는 편 같다."
   ]
  },
  {
   "cell_type": "code",
   "execution_count": 15,
   "id": "050b37d9",
   "metadata": {},
   "outputs": [
    {
     "name": "stdout",
     "output_type": "stream",
     "text": [
      "7\n",
      "-3\n",
      "2\n",
      "0\n",
      "-1\n",
      "1\n",
      "3\n",
      "-2\n",
      "-3\n",
      "-2\n",
      "-1\n",
      "0\n",
      "1\n",
      "2\n",
      "3\n"
     ]
    }
   ],
   "source": [
    "N = int(input())\n",
    "if_num = False\n",
    "num_list_pos = list()\n",
    "num_list_neg = list()\n",
    "max_num_pos = 0\n",
    "max_num_neg = 0\n",
    "\n",
    "for i in range(N):\n",
    "    tmp = int(input())\n",
    "    if tmp == 0:\n",
    "        if_num = True\n",
    "    elif tmp > 0:\n",
    "        if tmp > max_num_pos:\n",
    "            max_num_pos = tmp\n",
    "        num_list_pos.append(tmp)\n",
    "    else:\n",
    "        tmp = abs(tmp)\n",
    "        if tmp > max_num_neg:\n",
    "            max_num_neg = tmp\n",
    "        num_list_neg.append(tmp)\n",
    "        \n",
    "if max_num_pos > 0:\n",
    "    counting_pos = [0] * max_num_pos\n",
    "    for i in range(len(num_list_pos)):\n",
    "        counting_pos[num_list_pos[i]-1] += 1\n",
    "    for i in range(1, max_num_pos):\n",
    "        counting_pos[i] += counting_pos[i-1]\n",
    "        \n",
    "    result_list_pos = [0] * len(num_list_pos)\n",
    "    \n",
    "    for i in range(len(num_list_pos)-1, -1, -1):\n",
    "        result_list_pos[counting_pos[num_list_pos[i]-1]-1] = num_list_pos[i]\n",
    "        counting_pos[num_list_pos[i]-1] -= 1\n",
    "if max_num_neg > 0:\n",
    "    counting_neg = [0] * max_num_neg\n",
    "    for i in range(len(num_list_neg)):\n",
    "        counting_neg[num_list_neg[i]-1] += 1\n",
    "    for i in range(1, max_num_neg):\n",
    "        counting_neg[i] += counting_neg[i-1]\n",
    "        \n",
    "    result_list_neg = [0] * len(num_list_neg)\n",
    "    \n",
    "    for i in range(len(num_list_neg)-1, -1, -1):\n",
    "        result_list_neg[counting_neg[num_list_neg[i]-1]-1] = num_list_neg[i]\n",
    "        counting_neg[num_list_neg[i]-1] -= 1\n",
    "\n",
    "    \n",
    "for i in range(len(num_list_neg)-1, -1, -1):\n",
    "    print(-result_list_neg[i])\n",
    "if if_num:\n",
    "    print(0)\n",
    "for i in range(len(num_list_pos)):\n",
    "    print(result_list_pos[i])"
   ]
  },
  {
   "cell_type": "markdown",
   "id": "3b326b67",
   "metadata": {},
   "source": [
    "결과는 성공"
   ]
  }
 ],
 "metadata": {
  "kernelspec": {
   "display_name": "Python 3",
   "language": "python",
   "name": "python3"
  },
  "language_info": {
   "codemirror_mode": {
    "name": "ipython",
    "version": 3
   },
   "file_extension": ".py",
   "mimetype": "text/x-python",
   "name": "python",
   "nbconvert_exporter": "python",
   "pygments_lexer": "ipython3",
   "version": "3.8.8"
  }
 },
 "nbformat": 4,
 "nbformat_minor": 5
}
