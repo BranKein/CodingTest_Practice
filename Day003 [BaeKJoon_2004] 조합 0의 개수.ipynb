{
 "cells": [
  {
   "cell_type": "markdown",
   "metadata": {},
   "source": [
    "### [백준 2004번 조합 0의 개수](https://www.acmicpc.net/problem/2004)\n",
    "\n",
    "##### 시간제한: 2초, 메모리제한 128MB\n",
    "\n",
    "### 문제\n",
    "\n",
    "_nCm_의 끝자리 0의 개수를 출력하는 프로그램을 작성하시오.\n",
    "\n",
    "### 입력\n",
    "\n",
    "첫째 줄에 정수 n, m (0 <= m <= n <= 2,000,000,000, n != 0)이 들어온다\n",
    "\n",
    "### 출력\n",
    "\n",
    "첫째 줄에 _nCm_의 끝자리 0의 개수를 출력한다.\n",
    "\n",
    "### 접근\n",
    "\n",
    "어제 풀었던 팩토리얼 0의 개수를 사용할 수 있을 듯 하다.\n",
    "\n",
    "_nCm_의 정의를 생각해보면, _nCm_ = _n!/m!(n-m)!_ 이므로\n",
    "\n",
    "n!의 0의 개수 - m!의 0의 개수 - (n-m)!의 0의 개수를 출력하면 된다.\n",
    "\n",
    "n!의 0의 개수를 먼저 구하는도중에 그보다 작은 수들에 대한것들도 한꺼번에 계산하면 m!과 n-m!은 이미 계산했던 내용을 가져다 사용하면 될 것이다."
   ]
  },
  {
   "cell_type": "code",
   "execution_count": 2,
   "metadata": {
    "pycharm": {
     "name": "#%%\n"
    }
   },
   "outputs": [
    {
     "name": "stdout",
     "output_type": "stream",
     "text": [
      "25 12\n",
      "2\n"
     ]
    }
   ],
   "source": [
    "inputLine = input().split(' ')\n",
    "n = int(inputLine[0])\n",
    "m = int(inputLine[1])\n",
    "\n",
    "zero_fac = [-1] * (n+1)\n",
    "zero_fac[0] = 0\n",
    "\n",
    "two = 0\n",
    "five = 0\n",
    "for i in range(1, n+1):\n",
    "    tmp = i\n",
    "    while True:\n",
    "        if tmp % 2 == 0:\n",
    "            two += 1\n",
    "            tmp /= 2\n",
    "        if tmp % 5 == 0:\n",
    "            five += 1\n",
    "            tmp /= 5\n",
    "        if tmp % 2 != 0 and tmp % 5 != 0:\n",
    "            break\n",
    "    if two >= 1 and five >= 1:\n",
    "        zero_fac[i] = zero_fac[i-1] + min(two, five)\n",
    "        two -= 1\n",
    "        five -= 1\n",
    "    else:\n",
    "        zero_fac[i] = zero_fac[i-1]\n",
    "\n",
    "print(zero_fac[n] - zero_fac[m] - zero_fac[n-m])"
   ]
  },
  {
   "cell_type": "markdown",
   "metadata": {
    "pycharm": {
     "name": "#%% md\n"
    }
   },
   "source": [
    "결과는 메모리초과.\n",
    "\n",
    "아무래도 N의 범위가 2백만이다보니까 zero_fac list의 메모리 차지가 너무 심했던 것 같다.\n",
    "\n",
    "해결방법은 리스트를 아예 만들지 않거나, 리스트 크기를 줄이는 방법.\n",
    "\n",
    "n!의 0의 개수를 구할 때 나머지 것들도 구해지는 점과 zero_fac 에는 한 항의 차이를 두고 관계가 이루어지니 리스트를 사용하지 않는 방향을 택하자."
   ]
  },
  {
   "cell_type": "code",
   "execution_count": 3,
   "metadata": {
    "pycharm": {
     "name": "#%%\n"
    }
   },
   "outputs": [
    {
     "name": "stdout",
     "output_type": "stream",
     "text": [
      "25 12\n",
      "2\n"
     ]
    }
   ],
   "source": [
    "inputLine = input().split(' ')\n",
    "n = int(inputLine[0])\n",
    "m = int(inputLine[1])\n",
    "zero_n = 0\n",
    "zero_m = 0\n",
    "zero_sub = 0\n",
    "\n",
    "two = 0\n",
    "five = 0\n",
    "before = 0\n",
    "for i in range(1, n+1):\n",
    "    tmp = i\n",
    "    while True:\n",
    "        if tmp % 2 == 0:\n",
    "            two += 1\n",
    "            tmp /= 2\n",
    "        if tmp % 5 == 0:\n",
    "            five += 1\n",
    "            tmp /= 5\n",
    "        if tmp % 2 != 0 and tmp % 5 != 0:\n",
    "            break\n",
    "    if two >= 1 and five >= 1:\n",
    "        before += min(two, five)\n",
    "        two -= 1\n",
    "        five -= 1\n",
    "\n",
    "    if n == i:\n",
    "        zero_n = before\n",
    "    if m == i:\n",
    "        zero_m = before\n",
    "    if n-m == i:\n",
    "        zero_sub = before\n",
    "\n",
    "print(zero_n-zero_m-zero_sub)"
   ]
  },
  {
   "cell_type": "markdown",
   "metadata": {
    "pycharm": {
     "name": "#%% md\n"
    }
   },
   "source": [
    "결과는 시간초과.\n",
    "\n",
    "현재 방식에서 바꿀 방법을 잘 모르겠으니 접근 방식 자체를 달리 해보자.\n",
    "\n",
    "n!의 0의 개수를 구한다고 해서 이전 수들의 0의 개수를 다 구하지 말고 각각을 따로 구하자.\n",
    "\n",
    "결국 소인수분해를 2와 5에 대해서만 하자."
   ]
  },
  {
   "cell_type": "code",
   "execution_count": 1,
   "metadata": {
    "pycharm": {
     "name": "#%%\n"
    }
   },
   "outputs": [
    {
     "name": "stdout",
     "output_type": "stream",
     "text": [
      "25 12\n",
      "2\n"
     ]
    }
   ],
   "source": [
    "def get_zero(N):\n",
    "    two = 0\n",
    "    five = 0\n",
    "    for i in range(1, N+1):\n",
    "        two_tmp = 1\n",
    "        five_tmp = 1\n",
    "\n",
    "        if i % 2 == 0:\n",
    "            while i % (2**two_tmp) == 0:\n",
    "                two_tmp += 1\n",
    "            two += two_tmp -1\n",
    "        if i % 5 == 0:\n",
    "            while i % (5**five_tmp) == 0:\n",
    "                five_tmp += 1\n",
    "            five += five_tmp -1\n",
    "    return min(two, five)\n",
    "\n",
    "inputLine = input().split(' ')\n",
    "n = int(inputLine[0])\n",
    "m = int(inputLine[1])\n",
    "print(get_zero(n) - get_zero(m) - get_zero(n-m))"
   ]
  },
  {
   "cell_type": "markdown",
   "metadata": {},
   "source": [
    "결과는 다시 시간초과.\n",
    "\n",
    "아무리 해도 생각이 안나서 솜장님의 블로그를 보았다.\n",
    "\n",
    "내가 쓴 코드랑 접근 방식 자체는 같은데, 이를 구현하는 방법에 약간 차이가 있었다.\n"
   ]
  },
  {
   "cell_type": "code",
   "execution_count": 4,
   "metadata": {},
   "outputs": [],
   "source": [
    "def countNum(N, num): \n",
    "    count = 0 \n",
    "    divNum = num \n",
    "    while( N >= divNum): \n",
    "        count = count + (N // divNum) \n",
    "        divNum = divNum * num \n",
    "    return count"
   ]
  },
  {
   "cell_type": "markdown",
   "metadata": {},
   "source": [
    "N!이 가지고 있는 num의 개수를 반환하는 함수이다.\n",
    "\n",
    "확실히 내 코드와 비교해보면 솜장님의 코드는 와일문 한번, 제곱수가 N 보다 작아야하므로 상당히 적은 수로 루프가 돌지만\n",
    "\n",
    "내 코드의 경우 1부터 N까지 돌아가며 인수분해를 일일히 다 해주다보니 O(n^2)으로 시간이 걸리는 듯 하다.\n",
    "\n",
    "그럼 이제 내 코드에 위 알고리즘을 대입해보자."
   ]
  },
  {
   "cell_type": "code",
   "execution_count": 6,
   "metadata": {},
   "outputs": [
    {
     "name": "stdout",
     "output_type": "stream",
     "text": [
      "25 12\n",
      "2\n"
     ]
    }
   ],
   "source": [
    "def get_zero(N):\n",
    "    two = 0\n",
    "    five = 0\n",
    "    \n",
    "    N_ori = N\n",
    "    divNum = 2\n",
    "    while N >= divNum:\n",
    "        two += N // divNum\n",
    "        divNum *= 2\n",
    "        \n",
    "    N = N_ori\n",
    "    divNum = 5\n",
    "    while N >= divNum:\n",
    "        five += N // divNum\n",
    "        divNum *= 5\n",
    "    return min(two, five)\n",
    "\n",
    "inputLine = input().split(' ')\n",
    "n = int(inputLine[0])\n",
    "m = int(inputLine[1])\n",
    "print(get_zero(n) - get_zero(m) - get_zero(n-m))"
   ]
  },
  {
   "cell_type": "markdown",
   "metadata": {},
   "source": [
    "결과는 실패?!\n",
    "\n",
    "좀 생각해보니 맨 처음에 생각했던 n!의 0의 개수 - m!의 0의 개수 - (n-m)!의 0의 개수\n",
    "\n",
    "가 틀렸던 것이다.\n",
    "\n",
    "간단하게는 m!(n-m)! 을 하는 과정에서, 즉 곱해지는 과정에서 0이 더 추가될 수도 있다는 것이다.\n",
    "\n",
    "결국 다시 공식을 만들어보면,\n",
    "\n",
    "min( n!의 2의 개수 - m!의 2의 개수 - (n-m)!의 2의 개수 , n!의 5의 개수 - m!의 5의 개수 - (n-m)!의 5의 개수 ) 가 되어야 한다.\n",
    "\n",
    "결론적으로는 솜장님의 코드를 그대로 가져오는 것이 좋다."
   ]
  },
  {
   "cell_type": "code",
   "execution_count": 7,
   "metadata": {},
   "outputs": [
    {
     "name": "stdout",
     "output_type": "stream",
     "text": [
      "25 12\n",
      "2\n"
     ]
    }
   ],
   "source": [
    "def countNum(N, num): \n",
    "    count = 0 \n",
    "    divNum = num \n",
    "    while N >= divNum:\n",
    "        count += N // divNum\n",
    "        divNum *= num \n",
    "    return count\n",
    "\n",
    "inputLine = input().split(' ')\n",
    "n = int(inputLine[0])\n",
    "m = int(inputLine[1])\n",
    "print(min((countNum(n, 2) - countNum(m, 2) - countNum(n-m, 2)), (countNum(n, 5) - countNum(m, 5) - countNum(n-m, 5))))"
   ]
  },
  {
   "cell_type": "markdown",
   "metadata": {},
   "source": [
    "결과는 성공.\n",
    "\n",
    "하지만 역시 솜장님의 코드를 가져온 것이 아쉽다."
   ]
  }
 ],
 "metadata": {
  "kernelspec": {
   "display_name": "Python 3",
   "language": "python",
   "name": "python3"
  },
  "language_info": {
   "codemirror_mode": {
    "name": "ipython",
    "version": 3
   },
   "file_extension": ".py",
   "mimetype": "text/x-python",
   "name": "python",
   "nbconvert_exporter": "python",
   "pygments_lexer": "ipython3",
   "version": "3.8.8"
  }
 },
 "nbformat": 4,
 "nbformat_minor": 1
}
