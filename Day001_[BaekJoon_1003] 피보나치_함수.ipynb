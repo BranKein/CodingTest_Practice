{
 "cells": [
  {
   "cell_type": "markdown",
   "source": [
    "### [백준 1003번 피보나치 함수](https://www.acmicpc.net/problem/1003)\n",
    "\n",
    "##### 시간제한: 0.25초, 메모리제한 128MB\n",
    "\n",
    "### 문제\n",
    "\n",
    "다음 소스는 N번째 피보나치 수를 구하는 C++ 함수이다.\n",
    "\n",
    "```cpp\n",
    "int fibonacci(int n) {\n",
    "    if (n == 0) {\n",
    "        printf(\"0\");\n",
    "        return 0;\n",
    "    } else if (n == 1) {\n",
    "        printf(\"1\");\n",
    "        return 1;\n",
    "    } else {\n",
    "        return fibonacci(n‐1) + fibonacci(n‐2);\n",
    "    }\n",
    "}\n",
    "```\n",
    "fibonacci(3)을 호출하면 다음과 같은 일이 일어난다.\n",
    "\n",
    "* fibonacci(3)은 fibonacci(2)와 fibonacci(1) (첫 번째 호출)을 호출한다.\n",
    "* fibonacci(2)는 fibonacci(1) (두 번째 호출)과 fibonacci(0)을 호출한다.\n",
    "* 두 번째 호출한 fibonacci(1)은 1을 출력하고 1을 리턴한다.\n",
    "* fibonacci(0)은 0을 출력하고, 0을 리턴한다.\n",
    "* fibonacci(2)는 fibonacci(1)과 fibonacci(0)의 결과를 얻고, 1을 리턴한다.\n",
    "* 첫 번째 호출한 fibonacci(1)은 1을 출력하고, 1을 리턴한다.\n",
    "* fibonacci(3)은 fibonacci(2)와 fibonacci(1)의 결과를 얻고, 2를 리턴한다.\n",
    "\n",
    "1은 2번 출력되고, 0은 1번 출력된다. N이 주어졌을 때, fibonacci(N)을 호출했을 때, 0과 1이 각각 몇 번 출력되는지 구하는 프로그램을 작성하시오.\n",
    "\n",
    "### 입력\n",
    "\n",
    "첫째 줄에 테스트 케이스의 개수 T가 주어진다.\n",
    "\n",
    "각 테스트 케이스는 한 줄로 이루어져 있고, N이 주어진다. N은 40보다 작거나 같은 자연수 또는 0이다.\n",
    "\n",
    "### 출력\n",
    "\n",
    "각 테스트 케이스마다 0이 출력되는 횟수와 1이 출력되는 횟수를 공백으로 구분해서 출력한다."
   ],
   "metadata": {
    "collapsed": false
   }
  },
  {
   "cell_type": "markdown",
   "source": [
    "### 첫번째 시도"
   ],
   "metadata": {
    "collapsed": false,
    "pycharm": {
     "name": "#%% md\n"
    }
   }
  },
  {
   "cell_type": "code",
   "execution_count": 6,
   "outputs": [
    {
     "name": "stdout",
     "output_type": "stream",
     "text": [
      "1 0\n",
      "0 1\n",
      "1 2\n"
     ]
    }
   ],
   "source": [
    "def fibonacci(n):\n",
    "    if n == 0:\n",
    "        return 1, 0\n",
    "    elif n == 1:\n",
    "        return 0, 1\n",
    "    else:\n",
    "        zero_1, one_1 = fibonacci(n - 1)\n",
    "        zero_2, one_2 = fibonacci(n - 2)\n",
    "        return zero_1 + zero_2, one_1 + one_2\n",
    "\n",
    "\n",
    "n = int(input())\n",
    "for i in range(n):\n",
    "    zero, one = fibonacci(int(input()))\n",
    "    print(\"{} {}\".format(zero, one))"
   ],
   "metadata": {
    "collapsed": false,
    "pycharm": {
     "name": "#%%\n"
    }
   }
  },
  {
   "cell_type": "markdown",
   "source": [
    "```\n",
    "input\n",
    "3\n",
    "0\n",
    "1\n",
    "3\n",
    "```\n",
    "\n",
    "결과는 시간초과.\n",
    "\n",
    "재귀함수는 사용했지만 n이 커질 경우 피보나치값을 for 문이 돌때마다 다시 구해주고 있었다.\n",
    "\n",
    "메모이징을 해보자. 대신 N이 40보다 작으므로 메모테이블의 크기는 일단 41로 고정한다."
   ],
   "metadata": {
    "collapsed": false,
    "pycharm": {
     "name": "#%% md\n"
    }
   }
  },
  {
   "cell_type": "code",
   "execution_count": 3,
   "outputs": [
    {
     "name": "stdout",
     "output_type": "stream",
     "text": [
      "1 0\n",
      "0 1\n",
      "1 2\n"
     ]
    },
    {
     "data": {
      "text/plain": "'\\ninput\\n3\\n0\\n1\\n3\\n'"
     },
     "execution_count": 3,
     "metadata": {},
     "output_type": "execute_result"
    }
   ],
   "source": [
    "def fibonacci_with_memo(memo, n):\n",
    "    if memo[n] != (-1, -1):\n",
    "        return memo[n]\n",
    "    elif n == 0:\n",
    "        return 1, 0\n",
    "    elif n == 1:\n",
    "        return 0, 1\n",
    "    else:\n",
    "        zero_1, one_1 = fibonacci_with_memo(memo, n - 1)\n",
    "        zero_2, one_2 = fibonacci_with_memo(memo, n - 2)\n",
    "        memo[n] = (zero_1 + zero_2, one_1 + one_2)\n",
    "        return memo[n]\n",
    "\n",
    "\n",
    "memo = list()\n",
    "for i in range(41):\n",
    "    memo.append((-1, -1))\n",
    "memo[0] = (1, 0)\n",
    "memo[1] = (0, 1)\n",
    "\n",
    "n = int(input())\n",
    "for i in range(n):\n",
    "    zero, one = fibonacci_with_memo(memo, int(input()))\n",
    "    print(\"{} {}\".format(zero, one))"
   ],
   "metadata": {
    "collapsed": false,
    "pycharm": {
     "name": "#%%\n"
    }
   }
  },
  {
   "cell_type": "markdown",
   "source": [
    "```\n",
    "input\n",
    "3\n",
    "0\n",
    "1\n",
    "3\n",
    "```\n",
    "결과는 성공.\n",
    "\n",
    "메모이징을 통해 이미 구했던 피보나치 값의 경우 메모 테이블에서 바로 꺼내와 시간 단축을 하였다."
   ],
   "metadata": {
    "collapsed": false,
    "pycharm": {
     "name": "#%% md\n"
    }
   }
  }
 ],
 "metadata": {
  "kernelspec": {
   "display_name": "Python 3",
   "language": "python",
   "name": "python3"
  },
  "language_info": {
   "codemirror_mode": {
    "name": "ipython",
    "version": 2
   },
   "file_extension": ".py",
   "mimetype": "text/x-python",
   "name": "python",
   "nbconvert_exporter": "python",
   "pygments_lexer": "ipython2",
   "version": "2.7.6"
  }
 },
 "nbformat": 4,
 "nbformat_minor": 0
}