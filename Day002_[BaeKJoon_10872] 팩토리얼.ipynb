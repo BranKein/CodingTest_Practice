{
 "cells": [
  {
   "cell_type": "markdown",
   "source": [
    "### [백준 10872번 팩토리얼](https://www.acmicpc.net/problem/10872)\n",
    "\n",
    "##### 시간제한: 1초, 메모리제한 256MB\n",
    "\n",
    "### 문제\n",
    "\n",
    "0보다 크거나 같은 정수 N이 주어진다. 이때, N!을 출력하는 프로그램을 작성하시오.\n",
    "\n",
    "### 입력\n",
    "\n",
    "첫째 줄에 N!을 출력한다.\n",
    "\n",
    "### 출력\n",
    "\n",
    "첫째 줄에 K번째 지워진 수를 출력한다."
   ],
   "metadata": {
    "collapsed": false
   }
  },
  {
   "cell_type": "markdown",
   "source": [
    "### 무작정 코딩"
   ],
   "metadata": {
    "collapsed": false,
    "pycharm": {
     "name": "#%% md\n"
    }
   }
  },
  {
   "cell_type": "code",
   "execution_count": 4,
   "outputs": [
    {
     "name": "stdout",
     "output_type": "stream",
     "text": [
      "1\n"
     ]
    }
   ],
   "source": [
    "num = int(input())\n",
    "\n",
    "N = 1\n",
    "for i in range(1, num+1):\n",
    "    N *= i\n",
    "\n",
    "print(N)"
   ],
   "metadata": {
    "collapsed": false,
    "pycharm": {
     "name": "#%%\n"
    }
   }
  },
  {
   "cell_type": "markdown",
   "source": [
    "성공.\n",
    "\n",
    "크게 신경쓸 부분은 없는 듯 하다."
   ],
   "metadata": {
    "collapsed": false,
    "pycharm": {
     "name": "#%% md\n"
    }
   }
  }
 ],
 "metadata": {
  "kernelspec": {
   "display_name": "Python 3",
   "language": "python",
   "name": "python3"
  },
  "language_info": {
   "codemirror_mode": {
    "name": "ipython",
    "version": 2
   },
   "file_extension": ".py",
   "mimetype": "text/x-python",
   "name": "python",
   "nbconvert_exporter": "python",
   "pygments_lexer": "ipython2",
   "version": "2.7.6"
  }
 },
 "nbformat": 4,
 "nbformat_minor": 0
}