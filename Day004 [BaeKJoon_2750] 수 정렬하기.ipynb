{
 "cells": [
  {
   "cell_type": "markdown",
   "id": "af0739d0",
   "metadata": {},
   "source": [
    "### [백준 2750번 수 정렬하기](https://www.acmicpc.net/problem/2750)\n",
    "\n",
    "##### 시간제한: 1초, 메모리제한 128MB\n",
    "\n",
    "### 문제\n",
    "\n",
    "N개의 수가 주어졌을 때, 이를 오름차순으로 정렬하는 프로그램을 작성하시오.\n",
    "\n",
    "### 입력\n",
    "\n",
    "첫째 줄에 수의 개수 N(1 ≤ N ≤ 1,000)이 주어진다. 둘째 줄부터 N개의 줄에는 숫자가 주어진다. 이 수는 절댓값이 1,000보다 작거나 같은 정수이다. 수는 중복되지 않는다.\n",
    "\n",
    "### 출력\n",
    "\n",
    "첫째 줄부터 N개의 줄에 오름차순으로 정렬한 결과를 한 줄에 하나씩 출력한다.\n",
    "\n",
    "### 접근\n",
    "\n",
    "아주 고전적인 알고리즘 문제, 수 정렬.\n",
    "\n",
    "python의 경우 list.sort 함수가 있긴 하지만 그 시간복잡도는 O(NlogN)이라고 한다. 또한 알고리즘은 Timsort.\n",
    "\n",
    "내가 알고 있는 정렬 알고리즘 중 NlogN보다 빠른 정렬 알고리즘은 카운팅 정렬 정도가 있는데 자세히는 모르니 일단은 sort 함수를 사용해보자."
   ]
  },
  {
   "cell_type": "code",
   "execution_count": 3,
   "id": "4c474928",
   "metadata": {},
   "outputs": [
    {
     "name": "stdout",
     "output_type": "stream",
     "text": [
      "5\n",
      "5\n",
      "2\n",
      "3\n",
      "4\n",
      "1\n",
      "1\n",
      "2\n",
      "3\n",
      "4\n",
      "5\n"
     ]
    }
   ],
   "source": [
    "N = int(input())\n",
    "num_list = list()\n",
    "for i in range(N):\n",
    "    num_list.append(int(input()))\n",
    "num_list.sort()\n",
    "for i in num_list:\n",
    "    print(i)"
   ]
  },
  {
   "cell_type": "markdown",
   "id": "793c9c86",
   "metadata": {},
   "source": [
    "결과는 성공."
   ]
  }
 ],
 "metadata": {
  "kernelspec": {
   "display_name": "Python 3",
   "language": "python",
   "name": "python3"
  },
  "language_info": {
   "codemirror_mode": {
    "name": "ipython",
    "version": 3
   },
   "file_extension": ".py",
   "mimetype": "text/x-python",
   "name": "python",
   "nbconvert_exporter": "python",
   "pygments_lexer": "ipython3",
   "version": "3.8.8"
  }
 },
 "nbformat": 4,
 "nbformat_minor": 5
}
